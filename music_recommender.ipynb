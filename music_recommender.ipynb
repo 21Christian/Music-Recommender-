{
 "cells": [
  {
   "cell_type": "code",
   "execution_count": 34,
   "id": "074a76e7",
   "metadata": {
    "scrolled": true
   },
   "outputs": [
    {
     "data": {
      "text/plain": [
       "1.0"
      ]
     },
     "execution_count": 34,
     "metadata": {},
     "output_type": "execute_result"
    }
   ],
   "source": [
    "import pandas as pd\n",
    "from sklearn.tree import DecisionTreeClassifier\n",
    "from sklearn.model_selection import train_test_split\n",
    "from sklearn.metrics import accuracy_score\n",
    "\n",
    "# load data\n",
    "music_data = pd.read_csv('C:\\\\Users\\\\User\\\\Desktop\\\\Datasets\\\\music.csv')\n",
    "# feature on our dataset\n",
    "X = music_data.drop(columns=['genre'])\n",
    "# target data\n",
    "y = music_data['genre']\n",
    "# splitting the data into training data and testing data\n",
    "X_train, X_test, y_train, y_test = train_test_split(X, y, test_size = 0.2)\n",
    "\n",
    "# creating the model\n",
    "model = DecisionTreeClassifier()\n",
    "# training the model\n",
    "model.fit(X_train, y_train)\n",
    "# predicting with the testing data\n",
    "predictions = model.predict(X_test)\n",
    "# making an accuracy test\n",
    "score = accuracy_score(y_test, predictions)\n",
    "score "
   ]
  },
  {
   "cell_type": "code",
   "execution_count": 31,
   "id": "ee4b1453",
   "metadata": {},
   "outputs": [],
   "source": [
    "import pandas as pd\n",
    "from sklearn.tree import DecisionTreeClassifier\n",
    "import joblib\n",
    "from sklearn import tree\n",
    "\n",
    "music_data = pd.read_csv('C:\\\\Users\\\\User\\\\Desktop\\\\Datasets\\\\music.csv')\n",
    "\n",
    "X = music_data.drop(columns=['genre'])\n",
    "y = music_data['genre']\n",
    "\n",
    "model = DecisionTreeClassifier()\n",
    "model.fit(X.values, y)\n",
    "\n",
    "# visualizing a graph \n",
    "tree.export_graphviz(model, out_file = 'music-recomender.dot',\n",
    "#                     feature names so we can set the rules \n",
    "                    feature_names=['age', 'gender'], \n",
    "#                     displaying the class for each node\n",
    "                    class_names=sorted(y.unique()), \n",
    "#                     every node has labels to read\n",
    "                    label ='all',\n",
    "#                     rounded corners for the boxes\n",
    "                    rounded=True,\n",
    "#                     each node is filles with a color\n",
    "                    filled=True)"
   ]
  }
 ],
 "metadata": {
  "kernelspec": {
   "display_name": "Python 3 (ipykernel)",
   "language": "python",
   "name": "python3"
  },
  "language_info": {
   "codemirror_mode": {
    "name": "ipython",
    "version": 3
   },
   "file_extension": ".py",
   "mimetype": "text/x-python",
   "name": "python",
   "nbconvert_exporter": "python",
   "pygments_lexer": "ipython3",
   "version": "3.9.12"
  }
 },
 "nbformat": 4,
 "nbformat_minor": 5
}
